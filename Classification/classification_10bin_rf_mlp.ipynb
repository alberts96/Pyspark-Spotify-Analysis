{
 "cells": [
  {
   "cell_type": "code",
   "execution_count": 1,
   "metadata": {
    "colab": {
     "base_uri": "https://localhost:8080/"
    },
    "id": "pb1jDCt7p6xn",
    "outputId": "e41e3c12-eba9-4d50-b2b8-e1453aef50d3"
   },
   "outputs": [
    {
     "name": "stdout",
     "output_type": "stream",
     "text": [
      "Collecting pyspark==3.1.2\n",
      "  Downloading pyspark-3.1.2.tar.gz (212.4 MB)\n",
      "\u001b[K     |████████████████████████████████| 212.4 MB 64 kB/s \n",
      "\u001b[?25hCollecting py4j==0.10.9\n",
      "  Downloading py4j-0.10.9-py2.py3-none-any.whl (198 kB)\n",
      "\u001b[K     |████████████████████████████████| 198 kB 54.8 MB/s \n",
      "\u001b[?25hBuilding wheels for collected packages: pyspark\n",
      "  Building wheel for pyspark (setup.py) ... \u001b[?25l\u001b[?25hdone\n",
      "  Created wheel for pyspark: filename=pyspark-3.1.2-py2.py3-none-any.whl size=212880768 sha256=b66cc046da3d8dcac4b078170f3275907c99b8d501b84d48b650249645120063\n",
      "  Stored in directory: /root/.cache/pip/wheels/a5/0a/c1/9561f6fecb759579a7d863dcd846daaa95f598744e71b02c77\n",
      "Successfully built pyspark\n",
      "Installing collected packages: py4j, pyspark\n",
      "Successfully installed py4j-0.10.9 pyspark-3.1.2\n"
     ]
    }
   ],
   "source": [
    "!pip install pyspark==3.1.2 py4j==0.10.9"
   ]
  },
  {
   "cell_type": "code",
   "execution_count": 2,
   "metadata": {
    "id": "GAvrEMU6qCRZ"
   },
   "outputs": [],
   "source": [
    "from pyspark.sql import SparkSession\n",
    "from pyspark.sql.functions import *\n",
    "from pyspark.sql.window import Window\n",
    "from pyspark.ml.stat import Correlation\n",
    "from pyspark.sql.types import IntegerType,BooleanType,DateType,FloatType\n",
    "\n",
    "spark = SparkSession.builder\\\n",
    "        .master(\"local[*]\")\\\n",
    "        .appName('spotify_classification')\\\n",
    "        .getOrCreate()"
   ]
  },
  {
   "cell_type": "code",
   "execution_count": 3,
   "metadata": {
    "colab": {
     "base_uri": "https://localhost:8080/"
    },
    "id": "23wi9Ie8qExk",
    "outputId": "c72b59a2-95f9-4b33-944e-a35539002df7"
   },
   "outputs": [
    {
     "name": "stdout",
     "output_type": "stream",
     "text": [
      "Mounted at /content/drive\n"
     ]
    }
   ],
   "source": [
    "from google.colab import drive               \n",
    "drive.mount('/content/drive')"
   ]
  },
  {
   "cell_type": "code",
   "execution_count": 4,
   "metadata": {
    "id": "T8s53UcIqF_q"
   },
   "outputs": [],
   "source": [
    "df = spark.read.json(\"drive/My Drive/dataset.json\")"
   ]
  },
  {
   "cell_type": "code",
   "execution_count": 5,
   "metadata": {
    "colab": {
     "base_uri": "https://localhost:8080/"
    },
    "id": "AI1SpGyaqHIq",
    "outputId": "2ac1f0e8-ceaa-493f-df2b-3445551e4bf1"
   },
   "outputs": [
    {
     "name": "stdout",
     "output_type": "stream",
     "text": [
      "+------------+------------------+--------------------+---------------------+------------+-----------+------+--------------------+--------------------+----------------+---+--------+--------+----+----------------+------------+-----------+--------------------+---------------------+-------+--------------+-------+\n",
      "|acousticness|               age|avg_artist_followers|avg_artist_popularity|danceability|duration_ms|energy|              genres|            id_track|instrumentalness|key|liveness|loudness|mode|popularity_track|release_date|speechiness|sum_artist_followers|sum_artist_popularity|  tempo|time_signature|valence|\n",
      "+------------+------------------+--------------------+---------------------+------------+-----------+------+--------------------+--------------------+----------------+---+--------+--------+----+----------------+------------+-----------+--------------------+---------------------+-------+--------------+-------+\n",
      "|       0.658| 41.83013698630137|              5403.5|                 40.0|       0.602|     156067| 0.552|[classic czech po...|00AeAaSNbe92PRrst...|             0.0|  0|  0.0972|  -6.667|   1|               3|  1980-01-01|      0.404|               10807|                   80|182.229|             3|   0.65|\n",
      "|       0.543| 45.83287671232877|             19833.0|                 43.0|        0.77|     220133| 0.891|[afrobeat, afropo...|00DJt4PjkzeXhKKVD...|         7.96E-4|  1|  0.0684|  -7.306|   1|               9|  1976-01-01|      0.172|               19833|                   43|135.573|             4|  0.898|\n",
      "|      4.8E-5|25.682191780821917|            874600.0|                 68.0|       0.212|     250960| 0.986|[alternative meta...|00HgVIkZrAL8WjAN9...|           0.918|  0|   0.324|   -6.69|   0|              33|  1996-02-20|       0.14|              874600|                   68|140.917|             4|  0.231|\n",
      "|       0.144| 31.82191780821918|             69129.0|                 42.0|       0.362|     457040| 0.453|[corrosion, dark ...|00Lx2f8NRiFKMGWa0...|           0.827| 11|   0.117| -17.744|   0|              35|  1990-01-01|     0.0398|               69129|                   42|118.853|             4|  0.257|\n",
      "|       0.957| 4.079452054794521|           1709414.0|                 68.0|       0.343|     282891| 0.225|[brazilian rock, ...|00fzPML4lrNag28OP...|         2.49E-4|  1|   0.661| -14.937|   0|              52|  2017-09-22|     0.0384|             1709414|                   68|144.533|             4|  0.101|\n",
      "+------------+------------------+--------------------+---------------------+------------+-----------+------+--------------------+--------------------+----------------+---+--------+--------+----+----------------+------------+-----------+--------------------+---------------------+-------+--------------+-------+\n",
      "only showing top 5 rows\n",
      "\n"
     ]
    }
   ],
   "source": [
    "df.show(5)"
   ]
  },
  {
   "cell_type": "code",
   "execution_count": 6,
   "metadata": {
    "id": "Wwf4Uu37qIbJ"
   },
   "outputs": [],
   "source": [
    "from pyspark.ml.feature import QuantileDiscretizer \n",
    "\n",
    "qds = QuantileDiscretizer(relativeError=0.0001, handleInvalid=\"error\", numBuckets=10, inputCol=\"popularity_track\", outputCol=\"label\")\n",
    "\n",
    "df = qds.setHandleInvalid(\"keep\").fit(df).transform(df)"
   ]
  },
  {
   "cell_type": "code",
   "execution_count": 7,
   "metadata": {
    "id": "A-437eCnqKuc"
   },
   "outputs": [],
   "source": [
    "from pyspark.ml.feature import VectorAssembler\n",
    "\n",
    "assembler = VectorAssembler( \n",
    "inputCols=[\n",
    " 'age',\n",
    " 'duration_ms',\n",
    " 'danceability',\n",
    " 'energy',\n",
    " 'key',\n",
    " 'mode',\n",
    " 'speechiness',\n",
    " 'acousticness',\n",
    " 'instrumentalness',\n",
    " 'liveness',\n",
    " 'valence',\n",
    " 'tempo',\n",
    " 'time_signature',\n",
    " 'sum_artist_followers',\n",
    " 'sum_artist_popularity',\n",
    " 'avg_artist_popularity'], \n",
    "outputCol=\"feat\")\n",
    "df=assembler.transform(df)"
   ]
  },
  {
   "cell_type": "code",
   "execution_count": 8,
   "metadata": {
    "id": "z5_yfbsRqMdH"
   },
   "outputs": [],
   "source": [
    "from pyspark.ml.feature import StandardScaler\n",
    "\n",
    "\n",
    "scaler = StandardScaler(inputCol=\"feat\", outputCol=\"features\")\n",
    "\n",
    "\n",
    "scalerModel = scaler.fit(df)\n",
    "\n",
    "\n",
    "df = scalerModel.transform(df)"
   ]
  },
  {
   "cell_type": "code",
   "execution_count": 9,
   "metadata": {
    "id": "0_bvdOHzqWV5"
   },
   "outputs": [],
   "source": [
    "final_data = df.select(\"id_track\", \"features\",\"label\")"
   ]
  },
  {
   "cell_type": "code",
   "execution_count": 10,
   "metadata": {
    "id": "HwmT9wamqeNG"
   },
   "outputs": [],
   "source": [
    "train, test = final_data.randomSplit([0.7, 0.3], seed = 10)"
   ]
  },
  {
   "cell_type": "code",
   "execution_count": 11,
   "metadata": {
    "id": "vqKUjHWQqiW2"
   },
   "outputs": [],
   "source": [
    "from pyspark.ml.evaluation import MulticlassClassificationEvaluator"
   ]
  },
  {
   "cell_type": "markdown",
   "metadata": {
    "id": "8L3jLngDqm6v"
   },
   "source": [
    "# Random Forest"
   ]
  },
  {
   "cell_type": "code",
   "execution_count": 12,
   "metadata": {
    "id": "rp4wpR0Iqj9v"
   },
   "outputs": [],
   "source": [
    "from pyspark.ml.classification import RandomForestClassifier\n",
    "rf = RandomForestClassifier(featuresCol=\"features\",labelCol=\"label\",maxDepth = 10)\n",
    "rfModel = rf.fit(train)\n",
    "predictions = rfModel.transform(test)"
   ]
  },
  {
   "cell_type": "code",
   "execution_count": 13,
   "metadata": {
    "colab": {
     "base_uri": "https://localhost:8080/"
    },
    "id": "Wsz0O4buqrNO",
    "outputId": "cbe52b61-4941-430d-e327-37eab3e96e52"
   },
   "outputs": [
    {
     "data": {
      "text/plain": [
       "SparseVector(16, {0: 0.4257, 1: 0.0338, 2: 0.0099, 3: 0.0208, 4: 0.0013, 5: 0.0003, 6: 0.0235, 7: 0.0684, 8: 0.0225, 9: 0.0057, 10: 0.0066, 11: 0.0029, 12: 0.0008, 13: 0.1089, 14: 0.1148, 15: 0.1541})"
      ]
     },
     "execution_count": 13,
     "metadata": {},
     "output_type": "execute_result"
    }
   ],
   "source": [
    "rfModel.featureImportances"
   ]
  },
  {
   "cell_type": "code",
   "execution_count": 14,
   "metadata": {
    "colab": {
     "base_uri": "https://localhost:8080/"
    },
    "id": "To19rGNZqwIo",
    "outputId": "7cb9289e-e0fd-4462-a2ee-596b211f3b57"
   },
   "outputs": [
    {
     "data": {
      "text/plain": [
       "0.35512458112020423"
      ]
     },
     "execution_count": 14,
     "metadata": {},
     "output_type": "execute_result"
    }
   ],
   "source": [
    "evaluator = MulticlassClassificationEvaluator(labelCol=\"label\", predictionCol=\"prediction\",metricName=\"accuracy\")\n",
    "evaluator.evaluate(predictions)"
   ]
  },
  {
   "cell_type": "code",
   "execution_count": 15,
   "metadata": {
    "colab": {
     "base_uri": "https://localhost:8080/"
    },
    "id": "Ywm6loOFqx8T",
    "outputId": "ab62addb-2e56-4c79-ff59-3a9e28e2c0f6"
   },
   "outputs": [
    {
     "data": {
      "text/plain": [
       "0.329023689904405"
      ]
     },
     "execution_count": 15,
     "metadata": {},
     "output_type": "execute_result"
    }
   ],
   "source": [
    "evaluator = MulticlassClassificationEvaluator(labelCol=\"label\", predictionCol=\"prediction\",metricName=\"f1\")\n",
    "evaluator.evaluate(predictions)"
   ]
  },
  {
   "cell_type": "code",
   "execution_count": 16,
   "metadata": {
    "colab": {
     "base_uri": "https://localhost:8080/"
    },
    "id": "lxyyrqEjqz8e",
    "outputId": "e6857177-1dba-492e-e443-e987041e8796"
   },
   "outputs": [
    {
     "data": {
      "text/plain": [
       "0.7929934424292551"
      ]
     },
     "execution_count": 16,
     "metadata": {},
     "output_type": "execute_result"
    }
   ],
   "source": [
    "evaluator = MulticlassClassificationEvaluator(labelCol=\"label\", predictionCol=\"prediction\",metricName=\"recallByLabel\") \n",
    "evaluator.evaluate(predictions)"
   ]
  },
  {
   "cell_type": "code",
   "execution_count": 17,
   "metadata": {
    "colab": {
     "base_uri": "https://localhost:8080/"
    },
    "id": "MGB9R3mHq2sF",
    "outputId": "7caf8051-c77d-4150-90f4-44c6eba8e9db"
   },
   "outputs": [
    {
     "data": {
      "text/plain": [
       "0.7389892094252367"
      ]
     },
     "execution_count": 17,
     "metadata": {},
     "output_type": "execute_result"
    }
   ],
   "source": [
    "evaluator = MulticlassClassificationEvaluator(labelCol=\"label\", predictionCol=\"prediction\",metricName=\"precisionByLabel\") \n",
    "evaluator.evaluate(predictions)"
   ]
  },
  {
   "cell_type": "markdown",
   "metadata": {
    "id": "Xy2pPAIoq5QN"
   },
   "source": [
    "# MLP"
   ]
  },
  {
   "cell_type": "code",
   "execution_count": 18,
   "metadata": {
    "id": "D4uCkX4Nq4so"
   },
   "outputs": [],
   "source": [
    "from pyspark.ml.classification import MultilayerPerceptronClassifier"
   ]
  },
  {
   "cell_type": "code",
   "execution_count": 22,
   "metadata": {
    "id": "TEgSrRpIq8KU"
   },
   "outputs": [],
   "source": [
    "layers = [16,10,3,10]"
   ]
  },
  {
   "cell_type": "code",
   "execution_count": 23,
   "metadata": {
    "id": "lXzEAQxLq9WT"
   },
   "outputs": [],
   "source": [
    "mlp = MultilayerPerceptronClassifier(labelCol='label',\n",
    "                                            featuresCol='features',\n",
    "                                            maxIter=100,\n",
    "                                            layers=layers,\n",
    "                                            seed=1234)\n",
    "\n",
    "mlpModel = mlp.fit(train)\n",
    "\n",
    "\n",
    "predictions = mlpModel.transform(test)"
   ]
  },
  {
   "cell_type": "code",
   "execution_count": 24,
   "metadata": {
    "colab": {
     "base_uri": "https://localhost:8080/"
    },
    "id": "Id2UL0Qxq-mX",
    "outputId": "10309685-91c8-461a-d5cd-d3532213a215"
   },
   "outputs": [
    {
     "data": {
      "text/plain": [
       "0.2928454191077575"
      ]
     },
     "execution_count": 24,
     "metadata": {},
     "output_type": "execute_result"
    }
   ],
   "source": [
    "evaluator = MulticlassClassificationEvaluator(labelCol=\"label\", predictionCol=\"prediction\",metricName=\"accuracy\")\n",
    "evaluator.evaluate(predictions)"
   ]
  },
  {
   "cell_type": "code",
   "execution_count": 25,
   "metadata": {
    "colab": {
     "base_uri": "https://localhost:8080/"
    },
    "id": "KqjzrX9VrAKE",
    "outputId": "87d7afc5-246e-49f2-d521-bd2e7d5137ad"
   },
   "outputs": [
    {
     "data": {
      "text/plain": [
       "0.25047767662548587"
      ]
     },
     "execution_count": 25,
     "metadata": {},
     "output_type": "execute_result"
    }
   ],
   "source": [
    "evaluator = MulticlassClassificationEvaluator(labelCol=\"label\", predictionCol=\"prediction\",metricName=\"f1\")\n",
    "evaluator.evaluate(predictions)"
   ]
  },
  {
   "cell_type": "code",
   "execution_count": 26,
   "metadata": {
    "colab": {
     "base_uri": "https://localhost:8080/"
    },
    "id": "g17x1GhnrBd2",
    "outputId": "8ccbb56d-cd27-4615-ac4a-d7f526a868fb"
   },
   "outputs": [
    {
     "data": {
      "text/plain": [
       "0.6647958882259113"
      ]
     },
     "execution_count": 26,
     "metadata": {},
     "output_type": "execute_result"
    }
   ],
   "source": [
    "evaluator = MulticlassClassificationEvaluator(labelCol=\"label\", predictionCol=\"prediction\",metricName=\"recallByLabel\") \n",
    "evaluator.evaluate(predictions)"
   ]
  },
  {
   "cell_type": "code",
   "execution_count": 27,
   "metadata": {
    "colab": {
     "base_uri": "https://localhost:8080/"
    },
    "id": "R6dT3AElrC6x",
    "outputId": "734f0f20-bb90-4a27-d8f6-6b89e8b20b73"
   },
   "outputs": [
    {
     "data": {
      "text/plain": [
       "0.6857404021937843"
      ]
     },
     "execution_count": 27,
     "metadata": {},
     "output_type": "execute_result"
    }
   ],
   "source": [
    "evaluator = MulticlassClassificationEvaluator(labelCol=\"label\", predictionCol=\"prediction\",metricName=\"precisionByLabel\") \n",
    "evaluator.evaluate(predictions)"
   ]
  },
  {
   "cell_type": "code",
   "execution_count": null,
   "metadata": {
    "id": "i7jBiahfkswP"
   },
   "outputs": [],
   "source": []
  }
 ],
 "metadata": {
  "colab": {
   "collapsed_sections": [],
   "name": "classification_10bin_rf_mlp.ipynb",
   "provenance": []
  },
  "kernelspec": {
   "display_name": "Python 3",
   "language": "python",
   "name": "python3"
  },
  "language_info": {
   "codemirror_mode": {
    "name": "ipython",
    "version": 3
   },
   "file_extension": ".py",
   "mimetype": "text/x-python",
   "name": "python",
   "nbconvert_exporter": "python",
   "pygments_lexer": "ipython3",
   "version": "3.8.8"
  }
 },
 "nbformat": 4,
 "nbformat_minor": 4
}
